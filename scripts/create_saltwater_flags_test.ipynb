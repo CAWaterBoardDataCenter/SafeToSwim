{
 "cells": [
  {
   "cell_type": "code",
   "execution_count": null,
   "id": "538a22f9",
   "metadata": {},
   "outputs": [],
   "source": [
    "import geopandas as gpd\n",
    "import pandas as pd\n",
    "import requests\n",
    "import os\n",
    "\n",
    "# Create cache directory\n",
    "CACHE_DIR = \"../data_cache\"\n",
    "os.makedirs(CACHE_DIR, exist_ok=True)"
   ]
  },
  {
   "cell_type": "code",
   "execution_count": null,
   "id": "4b3d5cec",
   "metadata": {},
   "outputs": [
    {
     "name": "stdout",
     "output_type": "stream",
     "text": [
      "Fetched https://data-cdfw.opendata.arcgis.com/api/download/v1/items/86f3f1edf91d44be9a8f237a0afde994/geojson?layers=0\n"
     ]
    }
   ],
   "source": [
    "# Fetch or cache function\n",
    "def fetch_or_cache(url, local_path):\n",
    "    try:\n",
    "        r = requests.get(url, timeout=30)\n",
    "        r.raise_for_status()\n",
    "        with open(local_path, \"wb\") as f:\n",
    "            f.write(r.content)\n",
    "        print(f\"Fetched {url}\")\n",
    "    except Exception as e:\n",
    "        print(f\"Warning: could not fetch {url}, using cached copy. ({e})\")\n",
    "        if not os.path.exists(local_path):\n",
    "            raise FileNotFoundError(f\"No cached copy for {url}\")\n",
    "\n",
    "# Example test: saline wetlands GeoJSON\n",
    "SALINE_WETLAND_URL = \"https://data-cdfw.opendata.arcgis.com/api/download/v1/items/86f3f1edf91d44be9a8f237a0afde994/geojson?layers=0\"\n",
    "wetlands_path = os.path.join(CACHE_DIR, \"saline_wetlands.geojson\")\n",
    "fetch_or_cache(SALINE_WETLAND_URL, wetlands_path)\n"
   ]
  },
  {
   "cell_type": "code",
   "execution_count": null,
   "id": "cb53fa7d",
   "metadata": {},
   "outputs": [
    {
     "data": {
      "text/plain": [
       "(   OBJECTID  Hex_ID  SaltWetld SaltWetVeg SaltWetVeg_datasets EstuaryTidal  \\\n",
       " 0        63   37647          1          Y           ds2632;              N   \n",
       " 1        84    6865          1          Y           ds2630;              Y   \n",
       " 2       101   22390          1          N                                Y   \n",
       " 3       111   33436          1          Y           ds1327;              N   \n",
       " 4       174   33247          1          Y           ds1327;              N   \n",
       " \n",
       "   EstuaryTidal_datasets Eco_Sect                   Eco_Name Jepson_Eco  \\\n",
       " 0                           262A       Great Valley (south)       SnJV   \n",
       " 1             ds2793;       263A  Northern California Coast        NCo   \n",
       " 2             ds2793;       262A       Great Valley (north)        ScV   \n",
       " 3                           261A   Central California Coast        CCo   \n",
       " 4                           261A   Central California Coast        CCo   \n",
       " \n",
       "        County   Shape__Area  Shape__Length  \\\n",
       " 0       KINGS  9.969068e+06   11753.109527   \n",
       " 1    HUMBOLDT  1.132030e+07   12524.371582   \n",
       " 2  SACRAMENTO  1.052348e+07   12075.497885   \n",
       " 3    MONTEREY  3.358983e+06    8481.545808   \n",
       " 4    MONTEREY  1.009861e+07   11829.221081   \n",
       " \n",
       "                                             geometry  \n",
       " 0  POLYGON ((-119.83317 36.22133, -119.84199 36.2...  \n",
       " 1  POLYGON ((-124.08934 40.8295, -124.09799 40.81...  \n",
       " 2  POLYGON ((-121.5632 38.27768, -121.57197 38.26...  \n",
       " 3  POLYGON ((-121.79623 36.69988, -121.80479 36.6...  \n",
       " 4  POLYGON ((-121.69063 36.72604, -121.69921 36.7...  ,\n",
       " <Geographic 2D CRS: EPSG:4326>\n",
       " Name: WGS 84\n",
       " Axis Info [ellipsoidal]:\n",
       " - Lat[north]: Geodetic latitude (degree)\n",
       " - Lon[east]: Geodetic longitude (degree)\n",
       " Area of Use:\n",
       " - name: World.\n",
       " - bounds: (-180.0, -90.0, 180.0, 90.0)\n",
       " Datum: World Geodetic System 1984 ensemble\n",
       " - Ellipsoid: WGS 84\n",
       " - Prime Meridian: Greenwich)"
      ]
     },
     "execution_count": 4,
     "metadata": {},
     "output_type": "execute_result"
    }
   ],
   "source": [
    "# Read wetlands polygons and inspect\n",
    "wetlands = gpd.read_file(wetlands_path).to_crs(\"EPSG:4326\")\n",
    "wetlands.head(), wetlands.crs"
   ]
  },
  {
   "cell_type": "code",
   "execution_count": null,
   "id": "513e20e7",
   "metadata": {},
   "outputs": [
    {
     "name": "stdout",
     "output_type": "stream",
     "text": [
      "Using existing extracted SalineLakeBnd directory\n"
     ]
    },
    {
     "data": {
      "text/plain": [
       "(     Shape_Leng    Shape_Area          Name State  \\\n",
       " 0  87637.729242  2.730233e+08  Malheur Lake    OR   \n",
       " 1  40479.063776  1.122221e+08   Harney Lake    OR   \n",
       " 2  62845.220623  1.661274e+08   Albert Lake    OR   \n",
       " 3  51541.185017  1.252078e+08   Summer Lake    OR   \n",
       " 4  27637.526963  4.044161e+07   Silver Lake    OR   \n",
       " \n",
       "                                             geometry  \n",
       " 0  POLYGON ((-118.83679 43.37588, -118.79849 43.3...  \n",
       " 1  POLYGON ((-119.10235 43.27899, -119.07107 43.2...  \n",
       " 2  POLYGON ((-120.22907 42.73748, -120.20672 42.7...  \n",
       " 3  POLYGON ((-120.7181 42.86618, -120.71053 42.84...  \n",
       " 4  POLYGON ((-120.91214 43.12899, -120.88598 43.1...  ,\n",
       " <Geographic 2D CRS: EPSG:4326>\n",
       " Name: WGS 84\n",
       " Axis Info [ellipsoidal]:\n",
       " - Lat[north]: Geodetic latitude (degree)\n",
       " - Lon[east]: Geodetic longitude (degree)\n",
       " Area of Use:\n",
       " - name: World.\n",
       " - bounds: (-180.0, -90.0, 180.0, 90.0)\n",
       " Datum: World Geodetic System 1984 ensemble\n",
       " - Ellipsoid: WGS 84\n",
       " - Prime Meridian: Greenwich)"
      ]
     },
     "execution_count": 15,
     "metadata": {},
     "output_type": "execute_result"
    }
   ],
   "source": [
    "# Read saline lake shapefile (manual zip download required)\n",
    "# Download from: https://www.sciencebase.gov/catalog/item/667f1a25d34e2cb7853eaf4f\n",
    "\n",
    "lake_zip_path = os.path.join(CACHE_DIR, \"SalineLakeEcosy.zip\")\n",
    "lakes_dir = os.path.join(CACHE_DIR, \"SalineLakeBnd\")\n",
    "lakes_path = os.path.join(lakes_dir, \"SalineLakeBnd.shp\")\n",
    "\n",
    "if not os.path.exists(lakes_dir):\n",
    "    if not os.path.exists(lake_zip_path):\n",
    "        raise FileNotFoundError(\n",
    "            \"Please manually download SalineLakeEcosy.zip to data_cache/ and rerun\"\n",
    "        )\n",
    "    print(\"Extracting Saline Lake zip...\")\n",
    "    import zipfile\n",
    "    with zipfile.ZipFile(lake_zip_path, 'r') as zip_ref:\n",
    "        zip_ref.extractall(CACHE_DIR)\n",
    "else:\n",
    "    print(\"Using existing extracted SalineLakeBnd directory\")\n",
    "\n",
    "# Read shapefile\n",
    "lakes = gpd.read_file(lakes_path).to_crs(\"EPSG:4326\")\n",
    "lakes.head(), lakes.crs\n"
   ]
  },
  {
   "cell_type": "code",
   "execution_count": 17,
   "id": "c39d8cd1",
   "metadata": {},
   "outputs": [
    {
     "name": "stderr",
     "output_type": "stream",
     "text": [
      "/Users/chloecheng/opt/anaconda3/envs/safe2swim/lib/python3.11/site-packages/pyogrio/raw.py:198: RuntimeWarning: organizePolygons() received a polygon with more than 100 parts. The processing may be really slow.  You can skip the processing by setting METHOD=SKIP, or only make it analyze counter-clock wise parts by setting METHOD=ONLY_CCW if you can assume that the outline of holes is counter-clock wise defined\n",
      "  return ogr_read(\n"
     ]
    }
   ],
   "source": [
    "url = (\n",
    "    \"https://services8.arcgis.com/JFYbogndXme7ddg8/arcgis/rest/services/\"\n",
    "    \"CA_Nature_Terrestrial_and_Marine__AGOL__WebMer_/FeatureServer/0/query\"\n",
    "    \"?where=1=1&outFields=*&outSR=4326&f=json\"\n",
    ")\n",
    "\n",
    "coastal = gpd.read_file(url)"
   ]
  },
  {
   "cell_type": "code",
   "execution_count": null,
   "id": "3146f3de",
   "metadata": {},
   "outputs": [
    {
     "name": "stderr",
     "output_type": "stream",
     "text": [
      "/var/folders/mq/4dcyk52x1gv1330mgtd8_ghh0000gn/T/ipykernel_4575/258580155.py:9: DeprecationWarning: The 'unary_union' attribute is deprecated, use the 'union_all()' method instead.\n",
      "  marine_buffered = marine.unary_union.buffer(COASTAL_BUFFER_DEGREES)\n",
      "Matplotlib is building the font cache; this may take a moment.\n"
     ]
    },
    {
     "data": {
      "text/plain": [
       "<Axes: >"
      ]
     },
     "execution_count": 19,
     "metadata": {},
     "output_type": "execute_result"
    },
    {
     "data": {
      "image/png": "[encoded data removed]",
      "text/plain": [
       "<Figure size 640x480 with 1 Axes>"
      ]
     },
     "metadata": {},
     "output_type": "display_data"
    }
   ],
   "source": [
    "# Fetch and read coastal polygons\n",
    "\n",
    "# Filter only marine polygons using TerrMar == \"Marine\"\n",
    "marine = coastal[coastal[\"TerrMar\"].str.lower() == \"marine\"]\n",
    "\n",
    "# Apply buffer\n",
    "COASTAL_BUFFER_DEGREES = 0.01  # adjustable\n",
    "marine_union = marine.geometry.union_all()\n",
    "marine_buffered = marine_union.buffer(COASTAL_BUFFER_DEGREES)\n",
    "\n",
    "# Wrap in GeoDataFrame for inspection\n",
    "marine_buffered_gdf = gpd.GeoDataFrame(geometry=[marine_buffered], crs=\"EPSG:4326\")\n",
    "marine_buffered_gdf.plot()\n"
   ]
  },
  {
   "cell_type": "code",
   "execution_count": null,
   "id": "6e92a8cd",
   "metadata": {},
   "outputs": [
    {
     "name": "stdout",
     "output_type": "stream",
     "text": [
      "Unique stations: 5968\n"
     ]
    }
   ],
   "source": [
    "# Load sample site data from CKAN\n",
    "\n",
    "def fetch_ckan_all(resource_id, fields=None):\n",
    "    base_url = \"https://data.ca.gov/api/3/action/datastore_search\"\n",
    "    offset = 0\n",
    "    limit = 50000\n",
    "    dfs = []\n",
    "    while True:\n",
    "        params = {\"resource_id\": resource_id, \"limit\": limit, \"offset\": offset}\n",
    "        if fields:\n",
    "            params[\"fields\"] = fields\n",
    "        r = requests.get(base_url, params=params)\n",
    "        r.raise_for_status()\n",
    "        result = r.json()[\"result\"]\n",
    "        records = result[\"records\"]\n",
    "        dfs.append(pd.DataFrame(records))\n",
    "        offset += limit\n",
    "        if offset >= result[\"total\"]:\n",
    "            break\n",
    "    return pd.concat(dfs, ignore_index=True)\n",
    "\n",
    "resource_ids = [\n",
    "    \"1d333989-559a-433f-b93f-bb43d21da2b9\",\n",
    "    \"04d98c22-5523-4cc1-86e7-3a6abf40bb60\",\n",
    "    \"15a63495-8d9f-4a49-b43a-3092ef3106b9\"\n",
    "]\n",
    "sites = pd.concat([fetch_ckan_all(rid, \"StationCode,TargetLatitude,TargetLongitude\") \n",
    "                   for rid in resource_ids], ignore_index=True)\n",
    "sites = sites.drop_duplicates()\n",
    "print(\"Unique stations:\", sites[\"StationCode\"].nunique())"
   ]
  },
  {
   "cell_type": "code",
   "execution_count": null,
   "id": "99adb013",
   "metadata": {},
   "outputs": [
    {
     "data": {
      "text/html": [
       "<div>\n",
       "<style scoped>\n",
       "    .dataframe tbody tr th:only-of-type {\n",
       "        vertical-align: middle;\n",
       "    }\n",
       "\n",
       "    .dataframe tbody tr th {\n",
       "        vertical-align: top;\n",
       "    }\n",
       "\n",
       "    .dataframe thead th {\n",
       "        text-align: right;\n",
       "    }\n",
       "</style>\n",
       "<table border=\"1\" class=\"dataframe\">\n",
       "  <thead>\n",
       "    <tr style=\"text-align: right;\">\n",
       "      <th></th>\n",
       "      <th>StationCode</th>\n",
       "      <th>TargetLatitude</th>\n",
       "      <th>TargetLongitude</th>\n",
       "      <th>geometry</th>\n",
       "    </tr>\n",
       "  </thead>\n",
       "  <tbody>\n",
       "    <tr>\n",
       "      <th>0</th>\n",
       "      <td>0</td>\n",
       "      <td>33.6293</td>\n",
       "      <td>-117.960</td>\n",
       "      <td>POINT (-117.96 33.6293)</td>\n",
       "    </tr>\n",
       "    <tr>\n",
       "      <th>2552</th>\n",
       "      <td>12N</td>\n",
       "      <td>33.6467</td>\n",
       "      <td>-117.989</td>\n",
       "      <td>POINT (-117.989 33.6467)</td>\n",
       "    </tr>\n",
       "    <tr>\n",
       "      <th>4588</th>\n",
       "      <td>12S</td>\n",
       "      <td>33.6096</td>\n",
       "      <td>-117.931</td>\n",
       "      <td>POINT (-117.931 33.6096)</td>\n",
       "    </tr>\n",
       "    <tr>\n",
       "      <th>5502</th>\n",
       "      <td>15N</td>\n",
       "      <td>33.6521</td>\n",
       "      <td>-117.998</td>\n",
       "      <td>POINT (-117.998 33.6521)</td>\n",
       "    </tr>\n",
       "    <tr>\n",
       "      <th>8095</th>\n",
       "      <td>15S</td>\n",
       "      <td>33.6563</td>\n",
       "      <td>-117.924</td>\n",
       "      <td>POINT (-117.924 33.6563)</td>\n",
       "    </tr>\n",
       "  </tbody>\n",
       "</table>\n",
       "</div>"
      ],
      "text/plain": [
       "     StationCode  TargetLatitude  TargetLongitude                  geometry\n",
       "0              0         33.6293         -117.960   POINT (-117.96 33.6293)\n",
       "2552         12N         33.6467         -117.989  POINT (-117.989 33.6467)\n",
       "4588         12S         33.6096         -117.931  POINT (-117.931 33.6096)\n",
       "5502         15N         33.6521         -117.998  POINT (-117.998 33.6521)\n",
       "8095         15S         33.6563         -117.924  POINT (-117.924 33.6563)"
      ]
     },
     "execution_count": 34,
     "metadata": {},
     "output_type": "execute_result"
    }
   ],
   "source": [
    "# Unique sites with geometry\n",
    "gdf_sites = gpd.GeoDataFrame(\n",
    "    sites,\n",
    "    geometry=gpd.points_from_xy(sites.TargetLongitude, sites.TargetLatitude),\n",
    "    crs=\"EPSG:4326\"\n",
    ")\n",
    "gdf_sites.head()\n"
   ]
  },
  {
   "cell_type": "code",
   "execution_count": null,
   "id": "7acb51e6",
   "metadata": {},
   "outputs": [
    {
     "name": "stdout",
     "output_type": "stream",
     "text": [
      "Saltwater union geometry type: MultiPolygon\n"
     ]
    }
   ],
   "source": [
    "# Combine all saltwater polygons\n",
    "\n",
    "# Combine into one GeoDataFrame\n",
    "saltwater_polygons = gpd.GeoDataFrame(\n",
    "    pd.concat([wetlands, lakes, marine_buffered_gdf], ignore_index=True),\n",
    "    crs=\"EPSG:4326\"\n",
    ")\n",
    "\n",
    "# Union all geometries\n",
    "saltwater_union = saltwater_polygons.geometry.union_all()\n",
    "\n",
    "# Quick check\n",
    "print(\"Saltwater union geometry type:\", saltwater_union.geom_type)\n"
   ]
  },
  {
   "cell_type": "code",
   "execution_count": 36,
   "id": "eabefd5a",
   "metadata": {},
   "outputs": [
    {
     "name": "stdout",
     "output_type": "stream",
     "text": [
      "Total sites classified: 5976\n",
      "Saltwater sites: 2513\n",
      "Freshwater sites: 3463\n"
     ]
    },
    {
     "data": {
      "text/html": [
       "<div>\n",
       "<style scoped>\n",
       "    .dataframe tbody tr th:only-of-type {\n",
       "        vertical-align: middle;\n",
       "    }\n",
       "\n",
       "    .dataframe tbody tr th {\n",
       "        vertical-align: top;\n",
       "    }\n",
       "\n",
       "    .dataframe thead th {\n",
       "        text-align: right;\n",
       "    }\n",
       "</style>\n",
       "<table border=\"1\" class=\"dataframe\">\n",
       "  <thead>\n",
       "    <tr style=\"text-align: right;\">\n",
       "      <th></th>\n",
       "      <th>StationCode</th>\n",
       "      <th>TargetLatitude</th>\n",
       "      <th>TargetLongitude</th>\n",
       "      <th>geometry</th>\n",
       "      <th>saltwater</th>\n",
       "    </tr>\n",
       "  </thead>\n",
       "  <tbody>\n",
       "    <tr>\n",
       "      <th>0</th>\n",
       "      <td>0</td>\n",
       "      <td>33.6293</td>\n",
       "      <td>-117.960</td>\n",
       "      <td>POINT (-117.96 33.6293)</td>\n",
       "      <td>True</td>\n",
       "    </tr>\n",
       "    <tr>\n",
       "      <th>2552</th>\n",
       "      <td>12N</td>\n",
       "      <td>33.6467</td>\n",
       "      <td>-117.989</td>\n",
       "      <td>POINT (-117.989 33.6467)</td>\n",
       "      <td>True</td>\n",
       "    </tr>\n",
       "    <tr>\n",
       "      <th>4588</th>\n",
       "      <td>12S</td>\n",
       "      <td>33.6096</td>\n",
       "      <td>-117.931</td>\n",
       "      <td>POINT (-117.931 33.6096)</td>\n",
       "      <td>True</td>\n",
       "    </tr>\n",
       "    <tr>\n",
       "      <th>5502</th>\n",
       "      <td>15N</td>\n",
       "      <td>33.6521</td>\n",
       "      <td>-117.998</td>\n",
       "      <td>POINT (-117.998 33.6521)</td>\n",
       "      <td>True</td>\n",
       "    </tr>\n",
       "    <tr>\n",
       "      <th>8095</th>\n",
       "      <td>15S</td>\n",
       "      <td>33.6563</td>\n",
       "      <td>-117.924</td>\n",
       "      <td>POINT (-117.924 33.6563)</td>\n",
       "      <td>False</td>\n",
       "    </tr>\n",
       "  </tbody>\n",
       "</table>\n",
       "</div>"
      ],
      "text/plain": [
       "     StationCode  TargetLatitude  TargetLongitude                  geometry  \\\n",
       "0              0         33.6293         -117.960   POINT (-117.96 33.6293)   \n",
       "2552         12N         33.6467         -117.989  POINT (-117.989 33.6467)   \n",
       "4588         12S         33.6096         -117.931  POINT (-117.931 33.6096)   \n",
       "5502         15N         33.6521         -117.998  POINT (-117.998 33.6521)   \n",
       "8095         15S         33.6563         -117.924  POINT (-117.924 33.6563)   \n",
       "\n",
       "      saltwater  \n",
       "0          True  \n",
       "2552       True  \n",
       "4588       True  \n",
       "5502       True  \n",
       "8095      False  "
      ]
     },
     "execution_count": 36,
     "metadata": {},
     "output_type": "execute_result"
    }
   ],
   "source": [
    "# Ensure valid coordinates\n",
    "gdf_sites = gdf_sites.dropna(subset=[\"geometry\"])\n",
    "\n",
    "# Classify each site: True = saltwater\n",
    "gdf_sites[\"saltwater\"] = gdf_sites.geometry.within(saltwater_union)\n",
    "\n",
    "print(\"Total sites classified:\", len(gdf_sites))\n",
    "print(\"Saltwater sites:\", gdf_sites[\"saltwater\"].sum())\n",
    "print(\"Freshwater sites:\", (~gdf_sites[\"saltwater\"]).sum())\n",
    "gdf_sites.head()\n"
   ]
  },
  {
   "cell_type": "code",
   "execution_count": null,
   "id": "fadd5e69",
   "metadata": {},
   "outputs": [
    {
     "name": "stdout",
     "output_type": "stream",
     "text": [
      "Classification saved to data/site_saltwater_flags.csv\n"
     ]
    }
   ],
   "source": [
    "# Path for output CSV\n",
    "output_path = \"data/site_saltwater_flags.csv\"\n",
    "\n",
    "# Ensure output directory exists\n",
    "os.makedirs(os.path.dirname(output_path), exist_ok=True)\n",
    "\n",
    "# Save only station code and classification flag\n",
    "gdf_sites[[\"StationCode\", \"saltwater\"]].to_csv(output_path, index=False)\n",
    "\n",
    "print(f\"Classification saved to {output_path}\")"
   ]
  }
 ],
 "metadata": {
  "kernelspec": {
   "display_name": "safe2swim",
   "language": "python",
   "name": "python3"
  },
  "language_info": {
   "codemirror_mode": {
    "name": "ipython",
    "version": 3
   },
   "file_extension": ".py",
   "mimetype": "text/x-python",
   "name": "python",
   "nbconvert_exporter": "python",
   "pygments_lexer": "ipython3",
   "version": "3.11.13"
  }
 },
 "nbformat": 4,
 "nbformat_minor": 5
}
